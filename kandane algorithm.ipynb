{
  "nbformat": 4,
  "nbformat_minor": 0,
  "metadata": {
    "colab": {
      "name": "Untitled47.ipynb",
      "provenance": [],
      "toc_visible": true,
      "authorship_tag": "ABX9TyM8xpnQtA1Toa113Mtk7Kl+",
      "include_colab_link": true
    },
    "kernelspec": {
      "name": "python3",
      "display_name": "Python 3"
    },
    "language_info": {
      "name": "python"
    }
  },
  "cells": [
    {
      "cell_type": "markdown",
      "metadata": {
        "id": "view-in-github",
        "colab_type": "text"
      },
      "source": [
        "<a href=\"https://colab.research.google.com/github/sampreetg66/machine-learning/blob/master/kandane%20algorithm.ipynb\" target=\"_parent\"><img src=\"https://colab.research.google.com/assets/colab-badge.svg\" alt=\"Open In Colab\"/></a>"
      ]
    },
    {
      "cell_type": "code",
      "metadata": {
        "colab": {
          "base_uri": "https://localhost:8080/"
        },
        "id": "nEVbCBMLTWSL",
        "outputId": "693b65b6-d652-4a75-e764-cc1dc7e01f9f"
      },
      "source": [
        "    #from sys import maxint\n",
        "    a=[1,2,3,-2,-1]\n",
        "# Function to find the maximum contiguous subarray\n",
        "#def maxSubArraySum(a,size):\n",
        "      \n",
        "    max_so_far = 0\n",
        "    max_ending_here = 0\n",
        "      \n",
        "    for i in range(0, 5):\n",
        "        max_ending_here = max_ending_here + a[i]\n",
        "        if (max_so_far < max_ending_here):\n",
        "            max_so_far = max_ending_here\n",
        " \n",
        "        if max_ending_here < 0:\n",
        "            max_ending_here = 0  \n",
        "    print(max_so_far) \n"
      ],
      "execution_count": 14,
      "outputs": [
        {
          "output_type": "stream",
          "text": [
            "6\n"
          ],
          "name": "stdout"
        }
      ]
    }
  ]
}